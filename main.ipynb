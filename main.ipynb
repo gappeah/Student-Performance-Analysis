{
 "cells": [
  {
   "cell_type": "code",
   "execution_count": 3,
   "metadata": {},
   "outputs": [
    {
     "name": "stdout",
     "output_type": "stream",
     "text": [
      "    Student_ID  Age Gender  Math_Score  English_Score  Science_Score  \\\n",
      "0            1   17      M          81             69             96   \n",
      "1            2   18      F          88             85             82   \n",
      "2            3   15      F          98             68             54   \n",
      "3            4   17      F          81             75             97   \n",
      "4            5   17      F          53             52             68   \n",
      "..         ...  ...    ...         ...            ...            ...   \n",
      "95          96   16      F          58             83             93   \n",
      "96          97   16      F          55             70             54   \n",
      "97          98   18      F          65             79             88   \n",
      "98          99   16      M          78             82             53   \n",
      "99         100   15      M          52             77             55   \n",
      "\n",
      "    Study_Hours  Attendance (%)  \n",
      "0           2.0            64.1  \n",
      "1          11.1            96.1  \n",
      "2          11.3            80.2  \n",
      "3          13.1            93.1  \n",
      "4          14.8            72.8  \n",
      "..          ...             ...  \n",
      "95         18.7            74.1  \n",
      "96         17.3            83.3  \n",
      "97          9.2            63.1  \n",
      "98         15.3            99.0  \n",
      "99         15.3            99.4  \n",
      "\n",
      "[100 rows x 8 columns]\n"
     ]
    }
   ],
   "source": [
    "import pandas as pd\n",
    "import numpy as np\n",
    "import matplotlib.pyplot as plt\n",
    "\n",
    "df = pd.read_csv('student_performance_dataset(in).csv')\n",
    "print(df)"
   ]
  },
  {
   "cell_type": "code",
   "execution_count": 5,
   "metadata": {},
   "outputs": [],
   "source": [
    "maths_scores = np.array(df['Math_Score'])\n",
    "english_scores = np.array(df['English_Score'])\n",
    "science_scores = np.array(df['Science_Score'])\n",
    "study_hours = np.array(df['Study_Hours'])\n",
    "attendance = np.array(df['Attendance (%)'])"
   ]
  },
  {
   "cell_type": "code",
   "execution_count": 6,
   "metadata": {},
   "outputs": [],
   "source": [
    "# Converting 'M' to 0 and 'F' to 1\n",
    "genders = np.array([0 if gender == 'M' else 1 for gender in df['Gender']])"
   ]
  },
  {
   "cell_type": "code",
   "execution_count": null,
   "metadata": {},
   "outputs": [
    {
     "data": {
      "text/html": [
       "<div>\n",
       "<style scoped>\n",
       "    .dataframe tbody tr th:only-of-type {\n",
       "        vertical-align: middle;\n",
       "    }\n",
       "\n",
       "    .dataframe tbody tr th {\n",
       "        vertical-align: top;\n",
       "    }\n",
       "\n",
       "    .dataframe thead th {\n",
       "        text-align: right;\n",
       "    }\n",
       "</style>\n",
       "<table border=\"1\" class=\"dataframe\">\n",
       "  <thead>\n",
       "    <tr style=\"text-align: right;\">\n",
       "      <th></th>\n",
       "      <th>Student_ID</th>\n",
       "      <th>Age</th>\n",
       "      <th>Gender</th>\n",
       "      <th>Math_Score</th>\n",
       "      <th>English_Score</th>\n",
       "      <th>Science_Score</th>\n",
       "      <th>Study_Hours</th>\n",
       "      <th>Attendance (%)</th>\n",
       "    </tr>\n",
       "  </thead>\n",
       "  <tbody>\n",
       "    <tr>\n",
       "      <th>0</th>\n",
       "      <td>1</td>\n",
       "      <td>17</td>\n",
       "      <td>M</td>\n",
       "      <td>81</td>\n",
       "      <td>69</td>\n",
       "      <td>96</td>\n",
       "      <td>2.0</td>\n",
       "      <td>64.1</td>\n",
       "    </tr>\n",
       "    <tr>\n",
       "      <th>1</th>\n",
       "      <td>2</td>\n",
       "      <td>18</td>\n",
       "      <td>F</td>\n",
       "      <td>88</td>\n",
       "      <td>85</td>\n",
       "      <td>82</td>\n",
       "      <td>11.1</td>\n",
       "      <td>96.1</td>\n",
       "    </tr>\n",
       "    <tr>\n",
       "      <th>2</th>\n",
       "      <td>3</td>\n",
       "      <td>15</td>\n",
       "      <td>F</td>\n",
       "      <td>98</td>\n",
       "      <td>68</td>\n",
       "      <td>54</td>\n",
       "      <td>11.3</td>\n",
       "      <td>80.2</td>\n",
       "    </tr>\n",
       "    <tr>\n",
       "      <th>3</th>\n",
       "      <td>4</td>\n",
       "      <td>17</td>\n",
       "      <td>F</td>\n",
       "      <td>81</td>\n",
       "      <td>75</td>\n",
       "      <td>97</td>\n",
       "      <td>13.1</td>\n",
       "      <td>93.1</td>\n",
       "    </tr>\n",
       "    <tr>\n",
       "      <th>4</th>\n",
       "      <td>5</td>\n",
       "      <td>17</td>\n",
       "      <td>F</td>\n",
       "      <td>53</td>\n",
       "      <td>52</td>\n",
       "      <td>68</td>\n",
       "      <td>14.8</td>\n",
       "      <td>72.8</td>\n",
       "    </tr>\n",
       "    <tr>\n",
       "      <th>...</th>\n",
       "      <td>...</td>\n",
       "      <td>...</td>\n",
       "      <td>...</td>\n",
       "      <td>...</td>\n",
       "      <td>...</td>\n",
       "      <td>...</td>\n",
       "      <td>...</td>\n",
       "      <td>...</td>\n",
       "    </tr>\n",
       "    <tr>\n",
       "      <th>95</th>\n",
       "      <td>96</td>\n",
       "      <td>16</td>\n",
       "      <td>F</td>\n",
       "      <td>58</td>\n",
       "      <td>83</td>\n",
       "      <td>93</td>\n",
       "      <td>18.7</td>\n",
       "      <td>74.1</td>\n",
       "    </tr>\n",
       "    <tr>\n",
       "      <th>96</th>\n",
       "      <td>97</td>\n",
       "      <td>16</td>\n",
       "      <td>F</td>\n",
       "      <td>55</td>\n",
       "      <td>70</td>\n",
       "      <td>54</td>\n",
       "      <td>17.3</td>\n",
       "      <td>83.3</td>\n",
       "    </tr>\n",
       "    <tr>\n",
       "      <th>97</th>\n",
       "      <td>98</td>\n",
       "      <td>18</td>\n",
       "      <td>F</td>\n",
       "      <td>65</td>\n",
       "      <td>79</td>\n",
       "      <td>88</td>\n",
       "      <td>9.2</td>\n",
       "      <td>63.1</td>\n",
       "    </tr>\n",
       "    <tr>\n",
       "      <th>98</th>\n",
       "      <td>99</td>\n",
       "      <td>16</td>\n",
       "      <td>M</td>\n",
       "      <td>78</td>\n",
       "      <td>82</td>\n",
       "      <td>53</td>\n",
       "      <td>15.3</td>\n",
       "      <td>99.0</td>\n",
       "    </tr>\n",
       "    <tr>\n",
       "      <th>99</th>\n",
       "      <td>100</td>\n",
       "      <td>15</td>\n",
       "      <td>M</td>\n",
       "      <td>52</td>\n",
       "      <td>77</td>\n",
       "      <td>55</td>\n",
       "      <td>15.3</td>\n",
       "      <td>99.4</td>\n",
       "    </tr>\n",
       "  </tbody>\n",
       "</table>\n",
       "<p>100 rows × 8 columns</p>\n",
       "</div>"
      ],
      "text/plain": [
       "    Student_ID  Age Gender  Math_Score  English_Score  Science_Score  \\\n",
       "0            1   17      M          81             69             96   \n",
       "1            2   18      F          88             85             82   \n",
       "2            3   15      F          98             68             54   \n",
       "3            4   17      F          81             75             97   \n",
       "4            5   17      F          53             52             68   \n",
       "..         ...  ...    ...         ...            ...            ...   \n",
       "95          96   16      F          58             83             93   \n",
       "96          97   16      F          55             70             54   \n",
       "97          98   18      F          65             79             88   \n",
       "98          99   16      M          78             82             53   \n",
       "99         100   15      M          52             77             55   \n",
       "\n",
       "    Study_Hours  Attendance (%)  \n",
       "0           2.0            64.1  \n",
       "1          11.1            96.1  \n",
       "2          11.3            80.2  \n",
       "3          13.1            93.1  \n",
       "4          14.8            72.8  \n",
       "..          ...             ...  \n",
       "95         18.7            74.1  \n",
       "96         17.3            83.3  \n",
       "97          9.2            63.1  \n",
       "98         15.3            99.0  \n",
       "99         15.3            99.4  \n",
       "\n",
       "[100 rows x 8 columns]"
      ]
     },
     "metadata": {},
     "output_type": "display_data"
    }
   ],
   "source": [
    "display(df)"
   ]
  },
  {
   "cell_type": "code",
   "execution_count": 7,
   "metadata": {},
   "outputs": [],
   "source": [
    "maths_mean = np.mean(maths_scores)\n",
    "english_mean = np.mean(english_scores)\n",
    "science_mean = np.mean(science_scores)\n",
    "\n",
    "maths_std = np.std(maths_scores)\n",
    "english_std = np.std(english_scores)\n",
    "science_std = np.std(science_scores)"
   ]
  },
  {
   "cell_type": "code",
   "execution_count": 8,
   "metadata": {},
   "outputs": [],
   "source": [
    "study_science_corr = np.corrcoef(study_hours, science_scores)[0, 1]\n"
   ]
  },
  {
   "cell_type": "code",
   "execution_count": 9,
   "metadata": {},
   "outputs": [
    {
     "name": "stdout",
     "output_type": "stream",
     "text": [
      "Mean Maths Score: 74.86, Std: 15.072504768617591\n",
      "Correlation between Study Hours and Science Score: -0.16188220309103518\n",
      "Correlation between Attendance and Math Score: 0.03500877988507113\n"
     ]
    }
   ],
   "source": [
    "attendance_maths_corr = np.corrcoef(attendance, maths_scores)[0, 1]\n",
    "attendance_english_corr = np.corrcoef(attendance, english_scores)[0, 1]\n",
    "attendance_science_corr = np.corrcoef(attendance, science_scores)[0, 1]\n",
    "\n",
    "print(f\"Mean Maths Score: {maths_mean}, Std: {maths_std}\")\n",
    "print(f\"Correlation between Study Hours and Science Score: {study_science_corr}\")\n",
    "print(f\"Correlation between Attendance and Math Score: {attendance_maths_corr}\")"
   ]
  },
  {
   "cell_type": "code",
   "execution_count": 10,
   "metadata": {},
   "outputs": [
    {
     "name": "stdout",
     "output_type": "stream",
     "text": [
      "Students with low scores: (array([ 2,  4,  5,  8, 14, 15, 16, 20, 23, 25, 29, 30, 31, 34, 35, 37, 39,\n",
      "       41, 42, 43, 44, 46, 50, 51, 60, 61, 63, 64, 67, 68, 70, 74, 76, 77,\n",
      "       78, 80, 82, 87, 88, 89, 92, 93, 95, 96, 98, 99], dtype=int64),)\n",
      "Students with high scores: (array([ 0,  2,  3,  7,  9, 11, 13, 17, 19, 20, 21, 22, 23, 26, 27, 28, 29,\n",
      "       32, 36, 38, 40, 41, 45, 47, 48, 49, 52, 53, 56, 57, 59, 62, 64, 65,\n",
      "       66, 69, 73, 74, 77, 81, 82, 83, 86, 87, 90, 91, 92, 94, 95],\n",
      "      dtype=int64),)\n"
     ]
    }
   ],
   "source": [
    "low_scores = np.where((maths_scores < 60) | (english_scores < 60) | (science_scores < 60))\n",
    "high_scores = np.where((maths_scores > 90) | (english_scores > 90) | (science_scores > 90))\n",
    "\n",
    "print(f\"Students with low scores: {low_scores}\")\n",
    "print(f\"Students with high scores: {high_scores}\")"
   ]
  },
  {
   "cell_type": "code",
   "execution_count": 11,
   "metadata": {},
   "outputs": [
    {
     "name": "stdout",
     "output_type": "stream",
     "text": [
      "Regression line: Maths_Score = -0.13295157798977184 * Study_Hours + 76.23405455852429\n"
     ]
    }
   ],
   "source": [
    "slope, intercept = np.polyfit(study_hours, maths_scores, 1)\n",
    "print(f\"Regression line: Maths_Score = {slope} * Study_Hours + {intercept}\")"
   ]
  },
  {
   "cell_type": "code",
   "execution_count": 12,
   "metadata": {},
   "outputs": [
    {
     "data": {
      "image/png": "[encoded data removed]",
      "text/plain": [
       "<Figure size 640x480 with 1 Axes>"
      ]
     },
     "metadata": {},
     "output_type": "display_data"
    }
   ],
   "source": [
    "plt.scatter(study_hours, maths_scores, label='Data points')\n",
    "plt.plot(study_hours, slope * study_hours + intercept, color='red', label='Regression line')\n",
    "plt.xlabel('Study Hours')\n",
    "plt.ylabel('Maths Scores')\n",
    "plt.title('Relationship between Study Hours and Maths Scores')\n",
    "plt.legend()\n",
    "plt.show()"
   ]
  }
 ],
 "metadata": {
  "kernelspec": {
   "display_name": "Python 3",
   "language": "python",
   "name": "python3"
  },
  "language_info": {
   "codemirror_mode": {
    "name": "ipython",
    "version": 3
   },
   "file_extension": ".py",
   "mimetype": "text/x-python",
   "name": "python",
   "nbconvert_exporter": "python",
   "pygments_lexer": "ipython3",
   "version": "3.12.3"
  }
 },
 "nbformat": 4,
 "nbformat_minor": 2
}
